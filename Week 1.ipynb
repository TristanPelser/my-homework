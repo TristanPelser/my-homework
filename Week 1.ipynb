{
 "cells": [
  {
   "cell_type": "markdown",
   "id": "taken-designation",
   "metadata": {},
   "source": [
    "## Bergen, Norway\n",
    "\n",
    "[Bergen Norway wiki](https://en.wikipedia.org/wiki/Bergen) \n",
    "\n",
    "**pizza**\n",
    "\n",
    "![image of pizza](https://food-images.files.bbci.co.uk/food/recipes/four_cheese_pizzas_11912_16x9.jpg) "
   ]
  },
  {
   "cell_type": "markdown",
   "id": "higher-senegal",
   "metadata": {},
   "source": [
    "1. Reproducible science - science that you can reproduce :P\n",
    "2. GitHub - open source tool for reproducible science by allowing workflow organisation and forking!\n",
    "3. Machine readable? maybe..  The machine-readable name must contain only lowercase letters, numbers, and underscores. so no this file is not machine readable. "
   ]
  },
  {
   "cell_type": "code",
   "execution_count": 4,
   "id": "orange-tablet",
   "metadata": {},
   "outputs": [
    {
     "data": {
      "text/plain": [
       "6"
      ]
     },
     "execution_count": 4,
     "metadata": {},
     "output_type": "execute_result"
    }
   ],
   "source": [
    "4 + 2"
   ]
  },
  {
   "cell_type": "code",
   "execution_count": 5,
   "id": "conscious-costs",
   "metadata": {},
   "outputs": [
    {
     "data": {
      "text/plain": [
       "16"
      ]
     },
     "execution_count": 5,
     "metadata": {},
     "output_type": "execute_result"
    }
   ],
   "source": [
    "4 ** 2"
   ]
  },
  {
   "cell_type": "code",
   "execution_count": 6,
   "id": "bound-correlation",
   "metadata": {},
   "outputs": [
    {
     "data": {
      "text/plain": [
       "False"
      ]
     },
     "execution_count": 6,
     "metadata": {},
     "output_type": "execute_result"
    }
   ],
   "source": [
    "4 == 2"
   ]
  },
  {
   "cell_type": "code",
   "execution_count": 8,
   "id": "hundred-string",
   "metadata": {},
   "outputs": [
    {
     "data": {
      "image/png": "[encoded data removed]",
      "text/plain": [
       "<Figure size 432x288 with 1 Axes>"
      ]
     },
     "metadata": {
      "needs_background": "light"
     },
     "output_type": "display_data"
    }
   ],
   "source": [
    "# Core imports needed for grading\n",
    "import matplotlib.pyplot as plt\n",
    "import matplotcheck.notebook as nb\n",
    "import matplotcheck.timeseries as ts\n",
    "\n",
    "import pandas as pd\n",
    "\n",
    "# Create data\n",
    "boulder_precip = pd.DataFrame(columns=[\"date\", \"precip\"], \n",
    "                              data=[\n",
    "                                  [\"2013-09-09\", 0.1], [\"2013-09-10\", 1.0], \n",
    "                                  [\"2013-09-11\", 2.3], [\"2013-09-12\", 9.8], [\"2013-09-13\", 1.9],\n",
    "                                  [\"2013-09-14\", 0.01], [\"2013-09-15\", 1.4], [\"2013-09-16\", 0.4]])      \n",
    "# Create plot\n",
    "fig, ax = plt.subplots()\n",
    "ax.bar(boulder_precip['date'].values, boulder_precip['precip'].values)\n",
    "ax.set(title=\"Title Goes Here\", \n",
    "       xlabel=\"X Axis Label Goes Here\", ylabel=\"Y Axis Label Goes Here\")\n",
    "plt.setp(ax.get_xticklabels(), rotation=45);\n",
    "\n",
    "# DO NOT REMOVE LINE BELOW\n",
    "ts_1_plot = nb.convert_axes(plt)"
   ]
  },
  {
   "cell_type": "code",
   "execution_count": null,
   "id": "opponent-context",
   "metadata": {},
   "outputs": [],
   "source": []
  },
  {
   "cell_type": "code",
   "execution_count": null,
   "id": "early-piece",
   "metadata": {},
   "outputs": [],
   "source": []
  }
 ],
 "metadata": {
  "kernelspec": {
   "display_name": "Python 3",
   "language": "python",
   "name": "python3"
  },
  "language_info": {
   "codemirror_mode": {
    "name": "ipython",
    "version": 3
   },
   "file_extension": ".py",
   "mimetype": "text/x-python",
   "name": "python",
   "nbconvert_exporter": "python",
   "pygments_lexer": "ipython3",
   "version": "3.8.8"
  }
 },
 "nbformat": 4,
 "nbformat_minor": 5
}
