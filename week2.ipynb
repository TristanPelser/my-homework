{
 "cells": [
  {
   "cell_type": "code",
   "execution_count": 1,
   "id": "conscious-edinburgh",
   "metadata": {},
   "outputs": [],
   "source": [
    "#import matplotlib\n",
    "import matplotlib.pyplot as plt"
   ]
  },
  {
   "cell_type": "code",
   "execution_count": 2,
   "id": "unnecessary-lodge",
   "metadata": {},
   "outputs": [
    {
     "data": {
      "image/png": "[encoded data removed]",
      "text/plain": [
       "<Figure size 432x288 with 1 Axes>"
      ]
     },
     "metadata": {
      "needs_background": "light"
     },
     "output_type": "display_data"
    },
    {
     "name": "stdout",
     "output_type": "stream",
     "text": [
      "Nice work - you imported the pyplot module correctly. Look at that pretty plot you made!\n"
     ]
    }
   ],
   "source": [
    "# DO NOT MODIFY THIS CELL!\n",
    "\n",
    "# Data for plotting\n",
    "try:\n",
    "    fig, ax = plt.subplots()\n",
    "    ax.plot([1, 2, 3, 4], [1, 4, 9, 16])\n",
    "    ax.set_title(\"A Test Plot\")\n",
    "    plt.show()\n",
    "    print(\"Nice work - you imported the pyplot module correctly. Look at that pretty plot you made!\")\n",
    "except NameError as ne:\n",
    "    print(\"Oops - it looks like matplotlib.pyplot is not loaded\", ne)"
   ]
  },
  {
   "cell_type": "code",
   "execution_count": 17,
   "id": "authorized-tactics",
   "metadata": {},
   "outputs": [
    {
     "name": "stdout",
     "output_type": "stream",
     "text": [
      "nice work - all of your variables exist!\n"
     ]
    }
   ],
   "source": [
    "jan = 32.0\n",
    "feb = 35.6\n",
    "mar = 41.0\n",
    "apr = 49.2\n",
    "may = 57.9\n",
    "june = 67.2\n",
    "\n",
    "avg_monthly_temp_f = (32.0 + 35.6 + 41.0 + 49.2 + 57.9 + 67.2)/6\n",
    "\n",
    "# Did you create all of the variables? Run this cell to find out\n",
    "try:\n",
    "    jan\n",
    "    feb\n",
    "    mar\n",
    "    apr\n",
    "    may\n",
    "    june\n",
    "    print(\"nice work - all of your variables exist!\")\n",
    "except NameError as ne:\n",
    "    print(\"oops! atleast one of your variables is missing? Did you create the variable ? If so be sure that it is spelled exactly as it is represented in the Month column in the table above\", ne)\n"
   ]
  },
  {
   "cell_type": "code",
   "execution_count": 37,
   "id": "bored-wisdom",
   "metadata": {},
   "outputs": [],
   "source": [
    "jan = round((32.0 - 32)/1.8, 1)\n",
    "feb = round((35.6 - 32)/1.8, 1)\n",
    "mar = round((41.0 - 32)/1.8, 1)\n",
    "apr = round((49.2 - 32)/1.8, 1)\n",
    "may = round((57.9 - 32)/1.8, 1)\n",
    "june = round((67.2 - 32)/1.8, 1)\n",
    "\n",
    "#or do it the better way:\n",
    "\n",
    "temp_f = [32.0, 35.6, 41.0, 49.2, 57.9, 67.2]\n",
    "temp_c = [(i - 32)/1.8 for i in temp_f]"
   ]
  },
  {
   "cell_type": "code",
   "execution_count": 38,
   "id": "clean-northern",
   "metadata": {},
   "outputs": [],
   "source": [
    "temp = [jan, feb, mar, apr, may, june]"
   ]
  },
  {
   "cell_type": "code",
   "execution_count": 39,
   "id": "dynamic-contract",
   "metadata": {},
   "outputs": [
    {
     "name": "stdout",
     "output_type": "stream",
     "text": [
      "Nice work! The variable temp exists and is of type - list\n"
     ]
    }
   ],
   "source": [
    "# DO NOT MODIFY THIS CELL!\n",
    "if isinstance(temp, list):\n",
    "    print(\"Nice work! The variable temp exists and is of type - list\")\n",
    "else:\n",
    "    print(\"oops! Did you create a variable called temp that is of type list? Please reread the directions.\")\n",
    "    "
   ]
  },
  {
   "cell_type": "code",
   "execution_count": 40,
   "id": "useful-catalog",
   "metadata": {},
   "outputs": [],
   "source": [
    "jul = 22.8\n",
    "aug = 21.7\n",
    "sept = 16.7\n",
    "oct = 11.6\n",
    "nov = 4.9\n",
    "dec = 1.0"
   ]
  },
  {
   "cell_type": "code",
   "execution_count": 41,
   "id": "refined-booking",
   "metadata": {},
   "outputs": [
    {
     "name": "stdout",
     "output_type": "stream",
     "text": [
      "[0.0, 2.0, 5.0, 9.6, 14.4, 19.6, 22.8, 21.7, 16.7, 11.6, 4.9, 1.0]\n"
     ]
    }
   ],
   "source": [
    "additional_months = [jul, aug, sept, oct, nov, dec]\n",
    "\n",
    "temp.extend(additional_months)\n",
    "\n",
    "print(temp)"
   ]
  },
  {
   "cell_type": "code",
   "execution_count": 47,
   "id": "cheap-kitty",
   "metadata": {},
   "outputs": [],
   "source": [
    "months = [\"January\", \"February\", \"March\", \"April\", \"May\", \"June\", \"July\", \"August\", \"September\", \"October\", \"November\", \"December\"]"
   ]
  },
  {
   "cell_type": "code",
   "execution_count": 48,
   "id": "wrapped-alias",
   "metadata": {},
   "outputs": [
    {
     "name": "stdout",
     "output_type": "stream",
     "text": [
      "Nice work! The variable months exists and is of type - list\n"
     ]
    }
   ],
   "source": [
    "# DO NOT MODIFY THIS CELL\n",
    "if isinstance(months, list):\n",
    "    print(\"Nice work! The variable months exists and is of type - list\")\n",
    "else:\n",
    "    print(\"oops! Did you create a variable called months that is of type list? Please reread the directions.\")"
   ]
  },
  {
   "cell_type": "code",
   "execution_count": 61,
   "id": "ruled-actor",
   "metadata": {},
   "outputs": [
    {
     "data": {
      "text/plain": [
       "12"
      ]
     },
     "execution_count": 61,
     "metadata": {},
     "output_type": "execute_result"
    }
   ],
   "source": [
    "months = [\"January\", \"February\", \"March\", \"April\", \"May\", \"June\", \"July\", \"August\", \"September\", \"October\", \"November\", \"December\"]\n",
    "\n",
    "len(months)\n"
   ]
  },
  {
   "cell_type": "code",
   "execution_count": 62,
   "id": "quick-pleasure",
   "metadata": {},
   "outputs": [
    {
     "name": "stdout",
     "output_type": "stream",
     "text": [
      "['Jan', 'Feb', 'Mar', 'Apr', 'May', 'June', 'July', 'Aug', 'Sept', 'Oct', 'Nov', 'Dec']\n"
     ]
    }
   ],
   "source": [
    "months[0:4] = \"Jan\", \"Feb\", \"Mar\", \"Apr\"\n",
    "months[7:12] = \"Aug\", \"Sept\", \"Oct\", \"Nov\", \"Dec\"\n",
    "\n",
    "print(months)"
   ]
  },
  {
   "cell_type": "code",
   "execution_count": 94,
   "id": "comparable-slovak",
   "metadata": {},
   "outputs": [
    {
     "data": {
      "image/png": "[encoded data removed]",
      "text/plain": [
       "<Figure size 720x432 with 1 Axes>"
      ]
     },
     "metadata": {
      "needs_background": "light"
     },
     "output_type": "display_data"
    }
   ],
   "source": [
    "# Plot monthly precipitation values\n",
    "fig, ax = plt.subplots(figsize=(10, 6))\n",
    "ax.bar(months,\n",
    "        temp,\n",
    "        #marker=\"o\",\n",
    "        color='red')\n",
    "\n",
    "# for line graph: ax.plot\n",
    "# scatter graph: ax.scattter\n",
    "\n",
    "ax.set(title=\"Average Monthly Temperature\\nBoulder, CO\",\n",
    "       xlabel=\"Months\",\n",
    "       ylabel=\"Temperature\\n(celcius)\")\n",
    "\n",
    "# rotate labels:\n",
    "plt.setp(ax.get_xticklabels(), rotation=45)\n",
    "\n",
    "plt.show()\n",
    "\n",
    "# https://matplotlib.org/mpl_examples/color/named_colors.hires.png"
   ]
  },
  {
   "cell_type": "markdown",
   "id": "settled-there",
   "metadata": {},
   "source": [
    "## Marker symbols\t\n",
    "\n",
    "1. .\tpoint\n",
    "2. ,\tpixel\n",
    "3. o\tcircle\n",
    "4. v\ttriangle_down\n",
    "5. ^\ttriangle_up\n",
    "6. <\ttriangle_left\n",
    "7. '>'\ttriangle_right"
   ]
  },
  {
   "cell_type": "code",
   "execution_count": 87,
   "id": "restricted-japan",
   "metadata": {},
   "outputs": [
    {
     "data": {
      "text/plain": [
       "3.01"
      ]
     },
     "execution_count": 87,
     "metadata": {},
     "output_type": "execute_result"
    }
   ],
   "source": [
    "# do not modify this cell !!\n",
    "#Look closely at the code in the cell below. List 3 things that are not PEP 8 complient.\n",
    "\n",
    "# calculate total precipitation (inches)\n",
    "a_var = 1+.5\n",
    "a_var = 2+.01+1\n",
    "a_var"
   ]
  },
  {
   "cell_type": "code",
   "execution_count": 88,
   "id": "average-contact",
   "metadata": {},
   "outputs": [],
   "source": [
    "# variable names are way off"
   ]
  },
  {
   "cell_type": "markdown",
   "id": "authorized-pennsylvania",
   "metadata": {},
   "source": [
    "## Your Challenge If Your Choose to Accept It\n",
    "The code below creates a list object called temp_fah that stores 6 temperature values in degrees Fahrenheit.\n",
    "\n",
    "temp_fah = [32.0, 35.6, 41.0, 49.2, 57.9, 67.2]\n",
    "\n",
    "Do the following:\n",
    "\n",
    "1. Copy the code into the code cell below\n",
    "2. Create a list comprehension that creates a new object called temp_cel that contains each value converted into Celsius."
   ]
  },
  {
   "cell_type": "code",
   "execution_count": 90,
   "id": "touched-working",
   "metadata": {},
   "outputs": [
    {
     "name": "stdout",
     "output_type": "stream",
     "text": [
      "[0.0, 2.000000000000001, 5.0, 9.555555555555557, 14.388888888888888, 19.555555555555557]\n"
     ]
    }
   ],
   "source": [
    "temp_fah = [32.0, 35.6, 41.0, 49.2, 57.9, 67.2]\n",
    "temp_cel = [(i - 32)/1.8 for i in temp_fah]\n",
    "\n",
    "print(temp_cel)"
   ]
  },
  {
   "cell_type": "code",
   "execution_count": null,
   "id": "pacific-research",
   "metadata": {},
   "outputs": [],
   "source": []
  }
 ],
 "metadata": {
  "kernelspec": {
   "display_name": "Python 3",
   "language": "python",
   "name": "python3"
  },
  "language_info": {
   "codemirror_mode": {
    "name": "ipython",
    "version": 3
   },
   "file_extension": ".py",
   "mimetype": "text/x-python",
   "name": "python",
   "nbconvert_exporter": "python",
   "pygments_lexer": "ipython3",
   "version": "3.8.8"
  }
 },
 "nbformat": 4,
 "nbformat_minor": 5
}
