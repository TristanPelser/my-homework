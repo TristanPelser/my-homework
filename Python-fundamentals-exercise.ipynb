{
 "cells": [
  {
   "cell_type": "code",
   "execution_count": null,
   "id": "molecular-salmon",
   "metadata": {},
   "outputs": [],
   "source": [
    "# https://www.earthdatascience.org/courses/intro-to-earth-data-science/python-code-fundamentals/get-started-using-python/python-fundamentals-exercises/"
   ]
  },
  {
   "cell_type": "code",
   "execution_count": 3,
   "id": "verified-apache",
   "metadata": {},
   "outputs": [
    {
     "data": {
      "text/plain": [
       "[0.7, 0.75, 1.85, 2.93, 3.05, 2.02, 1.93, 1.62, 1.84, 1.31, 1.39, 0.84]"
      ]
     },
     "execution_count": 3,
     "metadata": {},
     "output_type": "execute_result"
    }
   ],
   "source": [
    "boulder_precip_months = [\"jan\", \"feb\", \"mar\", \"apr\", \"may\", \"jun\", \"jul\", \"aug\", \"sep\", \"oct\", \"nov\", \"dec\"]\n",
    "boulder_precip_inches = [0.70, 0.75, 1.85 , 2.93, 3.05 , 2.02, 1.93, 1.62, 1.84, 1.31, 1.39, 0.84]\n",
    "\n",
    "boulder_precip_inches"
   ]
  },
  {
   "cell_type": "code",
   "execution_count": 4,
   "id": "apparent-quarterly",
   "metadata": {},
   "outputs": [
    {
     "data": {
      "text/plain": [
       "[17.779999999999998,\n",
       " 19.049999999999997,\n",
       " 46.99,\n",
       " 74.422,\n",
       " 77.46999999999998,\n",
       " 51.308,\n",
       " 49.022,\n",
       " 41.148,\n",
       " 46.736,\n",
       " 33.274,\n",
       " 35.306,\n",
       " 21.336]"
      ]
     },
     "execution_count": 4,
     "metadata": {},
     "output_type": "execute_result"
    }
   ],
   "source": [
    "inches_to_mm = 25.4\n",
    "\n",
    "#for i in boulder_precip_inches:\n",
    "   # mm = i * inches_to_mm \n",
    "    \n",
    "boulder_precip_mm = boulder_precip_inches.copy()\n",
    "\n",
    "boulder_precip_mm = [i * inches_to_mm for i in boulder_precip_mm]\n",
    "\n",
    "boulder_precip_mm"
   ]
  },
  {
   "cell_type": "code",
   "execution_count": 5,
   "id": "automotive-replacement",
   "metadata": {},
   "outputs": [],
   "source": [
    "# https://www.earthdatascience.org/courses/intro-to-earth-data-science/python-code-fundamentals/get-started-using-python/python-fundamentals-exercises/"
   ]
  },
  {
   "cell_type": "code",
   "execution_count": 6,
   "id": "related-regulation",
   "metadata": {},
   "outputs": [
    {
     "name": "stdout",
     "output_type": "stream",
     "text": [
      "[[0.7, 0.75, 1.85, 2.93, 3.05, 2.02, 1.93, 1.62, 1.84, 1.31, 1.39, 0.84], [17.779999999999998, 19.049999999999997, 46.99, 74.422, 77.46999999999998, 51.308, 49.022, 41.148, 46.736, 33.274, 35.306, 21.336]]\n"
     ]
    }
   ],
   "source": [
    "all_boulder_data = [boulder_precip_inches, boulder_precip_mm]\n",
    "\n",
    "print(all_boulder_data)"
   ]
  },
  {
   "cell_type": "code",
   "execution_count": 13,
   "id": "sharing-forge",
   "metadata": {},
   "outputs": [
    {
     "data": {
      "image/png": "[encoded data removed]",
      "text/plain": [
       "<Figure size 576x432 with 1 Axes>"
      ]
     },
     "metadata": {
      "needs_background": "light"
     },
     "output_type": "display_data"
    }
   ],
   "source": [
    "# Import necessary plot package\n",
    "import matplotlib.pyplot as plt\n",
    "\n",
    "# Plot monthly precipitation values\n",
    "fig, ax = plt.subplots(figsize=(8, 6))\n",
    "ax.bar(boulder_precip_months, \n",
    "       boulder_precip_mm, \n",
    "       color=\"darkviolet\")\n",
    "ax.set(title=\"Boulder Precipitation\",\n",
    "       xlabel=\"Months\", \n",
    "       ylabel=\"Precipitation (mm)\")\n",
    "plt.show()\n",
    "\n",
    "#https://matplotlib.org/mpl_examples/color/named_colors.hires.png"
   ]
  },
  {
   "cell_type": "code",
   "execution_count": null,
   "id": "massive-balloon",
   "metadata": {},
   "outputs": [],
   "source": []
  }
 ],
 "metadata": {
  "kernelspec": {
   "display_name": "Python 3",
   "language": "python",
   "name": "python3"
  },
  "language_info": {
   "codemirror_mode": {
    "name": "ipython",
    "version": 3
   },
   "file_extension": ".py",
   "mimetype": "text/x-python",
   "name": "python",
   "nbconvert_exporter": "python",
   "pygments_lexer": "ipython3",
   "version": "3.8.8"
  }
 },
 "nbformat": 4,
 "nbformat_minor": 5
}
